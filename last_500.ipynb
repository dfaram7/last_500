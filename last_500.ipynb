{
 "cells": [
  {
   "cell_type": "markdown",
   "metadata": {},
   "source": [
    "# Last 500 CH Analysis\n",
    "\n",
    "After reading a Linkedin [post](https://www.linkedin.com/posts/greybrow53_i-explained-yesterday-at-our-companies-house-activity-6886977306439507968-utQ4) which discussed how shell companies could potentially be spotted by clustering the 500 most recently registered companies on [Companies House](https://www.gov.uk/government/organisations/companies-house) by address or SIC code.\n",
    "\n",
    "This notebook aims to automate that process (for the last 500 companies registered yesterday) and display a network diagram of the clusters which could be a useful foundation for further analysis. There are plenty of reasons why companies can be registered at the same address or indeed operate in the same sector so confirmatory OSINT is necessary.\n",
    "\n",
    "In using this notebook, you will conduct the following steps:\n",
    "\n",
    "- Retrieve yesterday's 500 most recently registered companies from Companies House\n",
    "- Authenticate to the Companies House API (you will need your own API key)\n",
    "- Style your chart so companies/addresses/directors/sic codes are different colours\n",
    "- Filter the data for \"interesting\" nodes\n",
    "- Display the network diagram\n",
    "\n"
   ]
  },
  {
   "cell_type": "code",
   "execution_count": 1,
   "metadata": {},
   "outputs": [],
   "source": [
    "#!pip install -r requirements.txt #if you haven't done already"
   ]
  },
  {
   "cell_type": "code",
   "execution_count": 2,
   "metadata": {},
   "outputs": [],
   "source": [
    "# imports the modules needed\n",
    "\n",
    "import requests\n",
    "import pandas as pd\n",
    "from ipycytoscape import *\n",
    "import json\n",
    "import re\n",
    "import chwrapper\n",
    "from collections import Counter\n",
    "from datetime import datetime\n",
    "from datetime import timedelta"
   ]
  },
  {
   "cell_type": "code",
   "execution_count": 3,
   "metadata": {},
   "outputs": [],
   "source": [
    "# get yesterdays date\n",
    "\n",
    "yesterday = datetime.now() - timedelta(days=1)\n"
   ]
  },
  {
   "cell_type": "markdown",
   "metadata": {},
   "source": [
    "## Retrieve yesterday's 500 most recently registered companies from Companies House\n",
    "\n",
    "The below cells captures yesterday's 500 most recently registered companies from Companies House and stores it in a pandas dataframe (not too dissimilar to an excel spreadsheet if you are unfamiliar). If you wished to take a look at a different day you can either;\n",
    "- alter the cell above by changing the 1 in \"timedelta(days=1)\". Changing it to 7 would be last week, changing it to 365 would be last year\n",
    "- consult the datetime [documentation](https://docs.python.org/3/library/datetime.html)"
   ]
  },
  {
   "cell_type": "code",
   "execution_count": 4,
   "metadata": {},
   "outputs": [],
   "source": [
    "csv = requests.get(\"https://find-and-update.company-information.service.gov.uk/advanced-search/download?companyNameIncludes=&companyNameExcludes=&registeredOfficeAddress=&incorporatedFrom=\" + str(yesterday.strftime('%d')) + \"%2F\" + str(yesterday.strftime('%m')) + \"%2F\" + str(yesterday.strftime('%y')) + \"&incorporatedTo=\" + str(yesterday.strftime('%d'))  +  \"%2F01%2F2022&sicCodes=&dissolvedFrom=&dissolvedTo=\")"
   ]
  },
  {
   "cell_type": "code",
   "execution_count": 5,
   "metadata": {},
   "outputs": [],
   "source": [
    "df = pd.DataFrame([x.split(',') for x in csv.text.split('\\n')])\n",
    "new_header = df.iloc[0] #grab the first row for the header\n",
    "df = df[1:] #take the data less the header row\n",
    "df.columns = new_header #set the header row as the df header"
   ]
  },
  {
   "cell_type": "markdown",
   "metadata": {},
   "source": [
    "## Authenticate to the Companies House API (you will need your own API key)\n",
    "\n",
    "You will need to insert your own access_token as a string (in inverted commas) to authenticate to the Companies House API. You can get one of these by signing up [here](https://developer.company-information.service.gov.uk/) "
   ]
  },
  {
   "cell_type": "code",
   "execution_count": 9,
   "metadata": {},
   "outputs": [],
   "source": [
    "search_client = chwrapper.Search(access_token='yourtokenhere')\n"
   ]
  },
  {
   "cell_type": "markdown",
   "metadata": {},
   "source": [
    "## Style your chart so companies/addresses/directors/sic codes are different colours\n",
    "\n",
    "my_style is a variable that affects the style of the chart featured at the bottom of the notebook. As it stands; address nodes are green, officer nodes are blue, sic_codes are yellow and companies are red.\n",
    "\n",
    "Fonts and Font sizes can also be changed by altering the font-family and font-size variables."
   ]
  },
  {
   "cell_type": "code",
   "execution_count": 7,
   "metadata": {},
   "outputs": [],
   "source": [
    "\n",
    "my_style = [\n",
    "    {'selector': 'node','style': {\n",
    "        'font-family': 'arial',\n",
    "        'font-size': '10px',\n",
    "        'label': 'data(label)',\n",
    "        'background-color': 'red'}},\n",
    "    \n",
    "    {'selector': 'node[type = \"address\"]','style': {\n",
    "        'font-family': 'arial',\n",
    "        'font-size': '10px',\n",
    "        'label': 'data(label)',\n",
    "        'background-color': 'green'}},\n",
    "    \n",
    "    {'selector': 'node[type = \"officer\"]','style': {\n",
    "        'font-family': 'arial',\n",
    "        'font-size': '10px',\n",
    "        'label': 'data(label)',\n",
    "        'background-color': 'blue'}},\n",
    "    \n",
    "    {'selector': 'node[type = \"sic_code\"]','style': {\n",
    "        'font-family': 'arial',\n",
    "        'font-size': '10px',\n",
    "        'label': 'data(label)',\n",
    "        'background-color': 'yellow'}}\n",
    "    \n",
    "    \n",
    "    \n",
    "    \n",
    "    ]"
   ]
  },
  {
   "cell_type": "markdown",
   "metadata": {},
   "source": [
    "## Filter the data for \"interesting\" nodes\n",
    "\n",
    "The below step is the most complex series of operations but in summary the following sub-steps are taken;\n",
    "\n",
    "- Each node is assessed for importance based on the number of associations it has\n",
    "    - An address is considered important if 2 or more companies are registered there\n",
    "    - A SIC code is considered important if 10 or more companies have declared it as their \"nature of business\"\n",
    "    - Any company linked to one of the above nodes is considered important\n",
    "    - Any officer linked to the above company nodes is considered important\n",
    "    \n",
    "Don't worry too much if errors are outputted while this step completes, these can happen unavoidably for the following reasons;\n",
    "\n",
    "- I believe much of the data at companies house has been manually entered at one point or another so there are lots of errors in the underlying database. API calls are made to retrieve the directors of the 500 companies so if the company number has been entered incorrectly or in the wrong column an error will be raised.\n",
    "\n",
    "- The companies house API allows 600 requests every 5 minutes. If you conduct the below step more than once every 5 minutes you will run into a lot of errors.\n",
    "\n",
    "- If you experience authorisation header errors, check you API credential is correct\n",
    "\n",
    "You can adjust the thresholds for \"interesting\" in the filterer function"
   ]
  },
  {
   "cell_type": "code",
   "execution_count": 22,
   "metadata": {},
   "outputs": [
    {
     "name": "stdout",
     "output_type": "stream",
     "text": [
      "404 Client Error: Not Found for url: https://api.companieshouse.gov.uk/company/%20U.K.%20LIMITED%22/officers?access_token=bdcf808a-e28b-4697-8f43-30d085f2f29c\n"
     ]
    }
   ],
   "source": [
    "nodelist = []\n",
    "edgelist = []\n",
    "\n",
    "#for i,j in df.head(150).iterrows(): #uncomment this line to look at a smaller sample size\n",
    "for i,j in df.iterrows():\n",
    "    #print(j['company_number'])\n",
    "    nodelist.append({\"data\": {\"id\": j[\"company_name\"], \"label\": j[\"company_name\"], \"type\": \"company\"}})\n",
    "    nodelist.append({\"data\": {\"id\": j[\"registered_office_address\\r\"], \"label\": re.findall(\"[A-Z]{1,2}[0-9][A-Z0-9]? [0-9][ABD-HJLNP-UW-Z]{2}\",j[\"registered_office_address\\r\"]), \"type\": \"address\"}})\n",
    "    nodelist.append({\"data\": {\"id\": j[\"nature_of_business\"], \"label\": j[\"nature_of_business\"], \"type\": \"sic_code\"}})\n",
    "    \n",
    "    try:\n",
    "        #print(j['company_number'])\n",
    "        response = search_client.officers(j['company_number'])\n",
    "        r = response.json()\n",
    "        for x in r['items']:\n",
    "            nodelist.append({\"data\": {\"id\": x[\"name\"], \"label\": x[\"name\"], \"type\": \"officer\"}})\n",
    "            edgelist.append({\"data\": {\"source\": j[\"company_name\"], \"target\": x[\"name\"]}})\n",
    "\n",
    "        edgelist.append({\"data\": {\"source\": j[\"company_name\"], \"target\": j[\"registered_office_address\\r\"]}})\n",
    "        edgelist.append({\"data\": {\"source\": j[\"company_name\"], \"target\": j[\"nature_of_business\"]}})\n",
    "    \n",
    "    except Exception as e:\n",
    "        print(e)\n",
    "        pass\n",
    "    \n",
    "\n",
    "    \n",
    "\n",
    "mycount = Counter()\n",
    "for edge in edgelist:\n",
    "    mycount.update({str(edge['data']['source']): 1})\n",
    "    mycount.update({str(edge['data']['target']): 1})\n",
    "\n",
    "compaines_to_add = []\n",
    "\n",
    "def filterer(c, k):\n",
    "    #c is count\n",
    "    #k is key\n",
    "    result = ''\n",
    "    \n",
    "    if c >= 2 and k in df['registered_office_address\\r'].tolist():\n",
    "        result = 'yes'\n",
    "        df2 = df.loc[df['registered_office_address\\r'] == k]\n",
    "        for cn in df2['company_name']:\n",
    "            compaines_to_add.append(cn)\n",
    "    \n",
    "    if c >= 10 and k in df['nature_of_business'].tolist():\n",
    "        result = 'yes'\n",
    "        df3 = df.loc[df['nature_of_business'] == k]\n",
    "        for cn in df3['company_name']:\n",
    "            compaines_to_add.append(cn)\n",
    "    \n",
    "    return result\n",
    "    \n",
    "    \n",
    "new_count = Counter({k: c for k, c in mycount.items() if filterer(c,k) == 'yes'})\n",
    "\n",
    "newedges = []\n",
    "newnodes = []\n",
    "\n",
    "for edge in edgelist:\n",
    "    if edge['data']['source'] in list(new_count.keys()):\n",
    "        newedges.append(edge)\n",
    "    if edge['data']['target'] in list(new_count.keys()):\n",
    "        newedges.append(edge)\n",
    "    if edge['data']['source'] in list(set(compaines_to_add)):\n",
    "        newedges.append(edge)\n",
    "    if edge['data']['target'] in list(set(compaines_to_add)):\n",
    "        newedges.append(edge)\n",
    "    \n",
    "temp = []\n",
    "for edge in newedges:\n",
    "    temp.append(str(edge['data']['source']))\n",
    "    temp.append(str(edge['data']['target']))\n",
    "\n",
    "for node in nodelist:\n",
    "    if node['data']['id'] in temp:\n",
    "        newnodes.append(node)\n",
    "    \n",
    "\n",
    "\n",
    "    \n",
    "    \n",
    "    \n",
    "overall = {}\n",
    "overall['nodes'] = newnodes\n",
    "\n",
    "overall['edges'] = newedges\n",
    "\n",
    "overall_json = json.loads(json.dumps(overall))\n",
    "ipycytoscape_obj = CytoscapeWidget()\n",
    "ipycytoscape_obj.graph.add_graph_from_json(overall_json)\n",
    "ipycytoscape_obj.set_style(my_style)\n",
    "\n"
   ]
  },
  {
   "cell_type": "markdown",
   "metadata": {},
   "source": [
    "## Create the chart\n",
    "\n",
    "Running the below step may take a while and depends on your processing power and how much \"interesting\" data there is. If it has gone on for longer than a minute or the chart looks \"weird\" then run the below step again.\n",
    "\n",
    "The below chart represents the output of the steps when conducted on the 26/01/2022.\n",
    "\n",
    "You can zoom in/out and drag and drop the nodes as you see fit.\n",
    "\n",
    "If the chart is too busy you can create a smaller sample by uncommenting and amending the \"for i,j in df.iterrows():\" line above."
   ]
  },
  {
   "cell_type": "code",
   "execution_count": 24,
   "metadata": {},
   "outputs": [
    {
     "data": {
      "application/vnd.jupyter.widget-view+json": {
       "model_id": "9de206e485e24ad98b4f137bc433c8f2",
       "version_major": 2,
       "version_minor": 0
      },
      "text/plain": [
       "CytoscapeWidget(cytoscape_layout={'name': 'cola'}, cytoscape_style=[{'selector': 'node', 'style': {'font-famil…"
      ]
     },
     "metadata": {},
     "output_type": "display_data"
    }
   ],
   "source": [
    "display(ipycytoscape_obj)"
   ]
  },
  {
   "cell_type": "code",
   "execution_count": null,
   "metadata": {},
   "outputs": [],
   "source": []
  },
  {
   "cell_type": "code",
   "execution_count": null,
   "metadata": {},
   "outputs": [],
   "source": []
  },
  {
   "cell_type": "code",
   "execution_count": null,
   "metadata": {
    "scrolled": true
   },
   "outputs": [],
   "source": [
    "\n"
   ]
  },
  {
   "cell_type": "code",
   "execution_count": null,
   "metadata": {},
   "outputs": [],
   "source": []
  },
  {
   "cell_type": "code",
   "execution_count": 14,
   "metadata": {
    "scrolled": true
   },
   "outputs": [],
   "source": [
    "\n"
   ]
  },
  {
   "cell_type": "code",
   "execution_count": null,
   "metadata": {},
   "outputs": [],
   "source": []
  },
  {
   "cell_type": "code",
   "execution_count": null,
   "metadata": {},
   "outputs": [],
   "source": []
  },
  {
   "cell_type": "code",
   "execution_count": null,
   "metadata": {},
   "outputs": [],
   "source": []
  },
  {
   "cell_type": "code",
   "execution_count": null,
   "metadata": {},
   "outputs": [],
   "source": []
  },
  {
   "cell_type": "code",
   "execution_count": null,
   "metadata": {},
   "outputs": [],
   "source": []
  }
 ],
 "metadata": {
  "kernelspec": {
   "display_name": "Python 3",
   "language": "python",
   "name": "python3"
  },
  "language_info": {
   "codemirror_mode": {
    "name": "ipython",
    "version": 3
   },
   "file_extension": ".py",
   "mimetype": "text/x-python",
   "name": "python",
   "nbconvert_exporter": "python",
   "pygments_lexer": "ipython3",
   "version": "3.8.5"
  }
 },
 "nbformat": 4,
 "nbformat_minor": 4
}
